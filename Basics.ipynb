{
 "cells": [
  {
   "cell_type": "markdown",
   "metadata": {},
   "source": [
    "# A Mobile App for Lottery Addiction\n",
    "\n",
    "In this project, we will build functions that enable users to answer questions about the [6/49 lottery](https://en.wikipedia.org/wiki/Lotto_6/49) like:\n",
    "\n",
    "- What is the probability of winning the big prize with a single ticket?\n",
    "- What is the probability of winning the big prize if we play 40 different tickets (or any other number)?\n",
    "- What is the probability of having at least five (or 4, 3, or 2) winning numbers on a single ticket?\n",
    "\n",
    "We will also include historical data coming from the [national 6/49 lottery game in Canada from 1982 to 2018](https://www.kaggle.com/datasets/datascienceai/lottery-dataset)."
   ]
  },
  {
   "cell_type": "code",
   "execution_count": 1,
   "metadata": {
    "collapsed": false
   },
   "outputs": [],
   "source": [
    "# Create function to calculate factorials\n",
    "def factorial(n):\n",
    "    answer = 1\n",
    "    for i in range(n,0,-1):\n",
    "        answer *= i\n",
    "    return answer\n",
    "\n",
    "# Create function to calculate number of combinations:\n",
    "def combinations(n,k):\n",
    "    num = factorial(n)\n",
    "    den = factorial(k) * factorial(n-k)\n",
    "    return num / den"
   ]
  },
  {
   "cell_type": "code",
   "execution_count": 2,
   "metadata": {
    "collapsed": false
   },
   "outputs": [],
   "source": [
    "# Calculate probability of winning big prize with one ticket\n",
    "def one_ticket_probability(list):\n",
    "    num_possible_outcomes = int(combinations(49,6))\n",
    "    probability = float(1 / num_possible_outcomes * 100)\n",
    "    print(\"The numbers you chose are: {}\\n\\nThe probability of winning the big prize with your ticket is: {:.7f}%.\\n\\nIn other words, you have a 1 in {:,} chances of winning.\".format(list, probability, num_possible_outcomes))\n",
    "    "
   ]
  },
  {
   "cell_type": "code",
   "execution_count": 3,
   "metadata": {
    "collapsed": false
   },
   "outputs": [
    {
     "name": "stdout",
     "output_type": "stream",
     "text": [
      "The numbers you chose are: [4, 5, 6, 34, 43, 7]\n",
      "\n",
      "The probability of winning the big prize with your ticket is: 0.0000072%.\n",
      "\n",
      "In other words, you have a 1 in 13,983,816 chances of winning.\n"
     ]
    }
   ],
   "source": [
    "# Test function\n",
    "one_ticket_probability([4,5,6,34,43,7])"
   ]
  },
  {
   "cell_type": "markdown",
   "metadata": {},
   "source": [
    "We will now consider the historical data drawings."
   ]
  },
  {
   "cell_type": "code",
   "execution_count": 4,
   "metadata": {
    "collapsed": false
   },
   "outputs": [
    {
     "name": "stdout",
     "output_type": "stream",
     "text": [
      "(3665, 11)\n"
     ]
    }
   ],
   "source": [
    "# Open data file\n",
    "import pandas as pd\n",
    "df = pd.read_csv('649.csv')\n",
    "print(df.shape)"
   ]
  },
  {
   "cell_type": "code",
   "execution_count": 5,
   "metadata": {
    "collapsed": false
   },
   "outputs": [
    {
     "name": "stdout",
     "output_type": "stream",
     "text": [
      "   PRODUCT  DRAW NUMBER  SEQUENCE NUMBER  DRAW DATE  NUMBER DRAWN 1  \\\n",
      "0      649            1                0  6/12/1982               3   \n",
      "1      649            2                0  6/19/1982               8   \n",
      "2      649            3                0  6/26/1982               1   \n",
      "\n",
      "   NUMBER DRAWN 2  NUMBER DRAWN 3  NUMBER DRAWN 4  NUMBER DRAWN 5  \\\n",
      "0              11              12              14              41   \n",
      "1              33              36              37              39   \n",
      "2               6              23              24              27   \n",
      "\n",
      "   NUMBER DRAWN 6  BONUS NUMBER  \n",
      "0              43            13  \n",
      "1              41             9  \n",
      "2              39            34  \n"
     ]
    }
   ],
   "source": [
    "print(df.head(3))"
   ]
  },
  {
   "cell_type": "code",
   "execution_count": 6,
   "metadata": {
    "collapsed": false
   },
   "outputs": [
    {
     "name": "stdout",
     "output_type": "stream",
     "text": [
      "<class 'pandas.core.frame.DataFrame'>\n",
      "RangeIndex: 3665 entries, 0 to 3664\n",
      "Data columns (total 11 columns):\n",
      "PRODUCT            3665 non-null int64\n",
      "DRAW NUMBER        3665 non-null int64\n",
      "SEQUENCE NUMBER    3665 non-null int64\n",
      "DRAW DATE          3665 non-null object\n",
      "NUMBER DRAWN 1     3665 non-null int64\n",
      "NUMBER DRAWN 2     3665 non-null int64\n",
      "NUMBER DRAWN 3     3665 non-null int64\n",
      "NUMBER DRAWN 4     3665 non-null int64\n",
      "NUMBER DRAWN 5     3665 non-null int64\n",
      "NUMBER DRAWN 6     3665 non-null int64\n",
      "BONUS NUMBER       3665 non-null int64\n",
      "dtypes: int64(10), object(1)\n",
      "memory usage: 315.0+ KB\n",
      "None\n"
     ]
    }
   ],
   "source": [
    "print(df.info())"
   ]
  },
  {
   "cell_type": "code",
   "execution_count": 7,
   "metadata": {
    "collapsed": false
   },
   "outputs": [
    {
     "data": {
      "text/plain": [
       "0    {3, 41, 11, 12, 43, 14}\n",
       "1    {33, 36, 37, 39, 8, 41}\n",
       "2     {1, 6, 39, 23, 24, 27}\n",
       "dtype: object"
      ]
     },
     "execution_count": 7,
     "metadata": {},
     "output_type": "execute_result"
    }
   ],
   "source": [
    "# Write function to enable users to compare their ticket against historical data and see if they would have ever won by now.\n",
    "\n",
    "def extract_numbers(row):\n",
    "    row = row[4:10]\n",
    "    row = set(row.values)\n",
    "    return row\n",
    "\n",
    "winning_numbers = df.apply(extract_numbers, axis=1)\n",
    "winning_numbers.head(3)\n"
   ]
  },
  {
   "cell_type": "code",
   "execution_count": 8,
   "metadata": {
    "collapsed": false
   },
   "outputs": [
    {
     "name": "stdout",
     "output_type": "stream",
     "text": [
      "Your numbers {1, 3, 41, 43, 12, 14} have won 0 time(s) in the past.\n",
      "\n",
      "The probability of you winning the big prize in the next drawing with your ticket is: 0.0000072%.\n",
      "\n",
      "In other words, you have a 1 in 13,983,816 chances of winning the next drawing.\n"
     ]
    }
   ],
   "source": [
    "def check_historical_occurence(user_ticket, winning_numbers):\n",
    "    user_ticket = set(user_ticket)\n",
    "    num_matches = sum(user_ticket == winning_numbers)\n",
    "    \n",
    "    num_possible_outcomes = int(combinations(49,6))\n",
    "    probability = float(1 / num_possible_outcomes * 100)\n",
    "    \n",
    "    print(\"Your numbers {} have won {} time(s) in the past.\".format(user_ticket, num_matches)\n",
    "         + \"\\n\\nThe probability of you winning the big prize in the next drawing with your ticket is: {:.7f}%.\\n\\nIn other words, you have a 1 in {:,} chances of winning the next drawing.\".format(probability, num_possible_outcomes))\n",
    "    \n",
    "check_historical_occurence([3,1,12,14,41,43], winning_numbers)"
   ]
  },
  {
   "cell_type": "code",
   "execution_count": 13,
   "metadata": {
    "collapsed": false
   },
   "outputs": [
    {
     "name": "stdout",
     "output_type": "stream",
     "text": [
      "Based on the number of 1 ticket(s) you plan on playing, the chances of you winning the big prize is 0.0000072% or 1 in 13,983,816 chances.\n",
      "-------------------\n",
      "Based on the number of 10 ticket(s) you plan on playing, the chances of you winning the big prize is 0.0000715% or 1 in 1,398,382 chances.\n",
      "-------------------\n",
      "Based on the number of 100 ticket(s) you plan on playing, the chances of you winning the big prize is 0.0007151% or 1 in 139,838 chances.\n",
      "-------------------\n",
      "Based on the number of 10000 ticket(s) you plan on playing, the chances of you winning the big prize is 0.0715112% or 1 in 1,398 chances.\n",
      "-------------------\n",
      "Based on the number of 1000000 ticket(s) you plan on playing, the chances of you winning the big prize is 7.1511238% or 1 in 14 chances.\n",
      "-------------------\n",
      "Based on the number of 6991908 ticket(s) you plan on playing, the chances of you winning the big prize is 50.0000000% or 1 in 2 chances.\n",
      "-------------------\n",
      "Based on the number of 13983816 ticket(s) you plan on playing, the chances of you winning the big prize is 100.0000000% or 1 in 1 chances.\n",
      "-------------------\n"
     ]
    }
   ],
   "source": [
    "# Find probability of winning the big prize depending on n number of tickets played\n",
    "def multi_ticket_probability(num):\n",
    "    num_possible_outcomes = int(combinations(49,6))\n",
    "    successful_outcomes = num\n",
    "    probability = successful_outcomes / num_possible_outcomes * 100\n",
    "    ratio = round(num_possible_outcomes/num)\n",
    "    print(\"Based on the number of {} ticket(s) you plan on playing, the chances of you winning the big prize is {:.7f}% or 1 in {:,} chances.\".format(num,probability, ratio))\n",
    "    \n",
    "test_inputs = [1, 10, 100, 10000, 1000000, 6991908, 13983816]\n",
    "for test_input in test_inputs:\n",
    "    multi_ticket_probability(test_input)\n",
    "    print(\"-------------------\")\n"
   ]
  },
  {
   "cell_type": "code",
   "execution_count": 19,
   "metadata": {
    "collapsed": false
   },
   "outputs": [
    {
     "name": "stdout",
     "output_type": "stream",
     "text": [
      "The probability of you having 2 winning numbers is 13.2378%\n",
      "------------\n",
      "The probability of you having 3 winning numbers is 1.765%\n",
      "------------\n",
      "The probability of you having 4 winning numbers is 0.0969%\n",
      "------------\n",
      "The probability of you having 5 winning numbers is 0.0018%\n",
      "------------\n"
     ]
    }
   ],
   "source": [
    "# Find probability of having 2, 3, 4, or 5 winning numbers\n",
    "def probability_less_6(int):\n",
    "    n_combinations = combinations(6, int)\n",
    "    n_remaining_combinations = combinations(43, 6 - int)\n",
    "    tot_successful_outcomes = n_combinations * n_remaining_combinations\n",
    "    tot_possible_outcomes = combinations(49,6)\n",
    "    probability = round(tot_successful_outcomes / tot_possible_outcomes * 100,4)\n",
    "    ratio = tot_possible_outcomes / tot_successful_outcomes\n",
    "    print(\"The probability of you having {} winning numbers is {}% or 1\".format(int, probability))\n",
    "    \n",
    "possible_inputs = [2,3,4,5]\n",
    "for i in possible_inputs:\n",
    "    probability_less_6(i)\n",
    "    print(\"------------\")\n",
    "    "
   ]
  },
  {
   "cell_type": "code",
   "execution_count": null,
   "metadata": {
    "collapsed": true
   },
   "outputs": [],
   "source": []
  }
 ],
 "metadata": {
  "kernelspec": {
   "display_name": "Python 3",
   "language": "python",
   "name": "python3"
  },
  "language_info": {
   "codemirror_mode": {
    "name": "ipython",
    "version": 3
   },
   "file_extension": ".py",
   "mimetype": "text/x-python",
   "name": "python",
   "nbconvert_exporter": "python",
   "pygments_lexer": "ipython3",
   "version": "3.4.3"
  }
 },
 "nbformat": 4,
 "nbformat_minor": 2
}
